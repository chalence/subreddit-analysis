{
 "cells": [
  {
   "cell_type": "code",
   "execution_count": 1,
   "metadata": {
    "collapsed": true,
    "deletable": true,
    "editable": true
   },
   "outputs": [],
   "source": [
    "%matplotlib inline\n",
    "import pandas as pd\n",
    "import operator\n",
    "import numpy as np\n",
    "import matplotlib.pyplot as plt\n",
    "from scipy import spatial\n",
    "import json\n",
    "from sklearn.cluster import KMeans\n",
    "from IPython.display import IFrame"
   ]
  },
  {
   "cell_type": "code",
   "execution_count": 2,
   "metadata": {
    "collapsed": true,
    "deletable": true,
    "editable": true
   },
   "outputs": [],
   "source": [
    "# Helper functions\n",
    "\n",
    "def cosine_similarity(d1,d2):\n",
    "    return 1.0 - spatial.distance.cosine(d1,d2)\n",
    "\n",
    "def find_similar(df,subs,ops=None,nreturn=5):\n",
    "    subs = [s.lower() for s in subs]\n",
    "    assert len(subs)-1 == len(ops)\n",
    "    sims = {}\n",
    "    d1 = df.loc[subs[0]].values\n",
    "    if len(subs) > 1:\n",
    "        for i, s in enumerate(subs[1:]):\n",
    "            if ops[i] == '+':\n",
    "                d1 = d1 + df.loc[s].values\n",
    "            elif ops[i] == '-':\n",
    "                d1 = d1 - df.loc[s].values\n",
    "            else:\n",
    "                print \"invalid operator! check your input\"\n",
    "    for s in df.index.values:\n",
    "        if s in subs: continue\n",
    "        d2 = df.loc[s].values\n",
    "        sims[s] = cosine_similarity(d1,d2)\n",
    "    return sorted(sims.items(), key=operator.itemgetter(1),reverse=True)[:nreturn]\n",
    "\n",
    "def normalize(x):\n",
    "    xnorm = np.sqrt((x**2).sum())\n",
    "    return x/xnorm\n",
    "\n",
    "def to_ppmi(df1,normalize_ppmi=True):\n",
    "    df = df1.copy()\n",
    "    totsum = df.values.sum()\n",
    "    psc = df.apply(lambda x: x/totsum)\n",
    "    psc['row_sum'] = psc.sum(axis=1)\n",
    "    psc.loc['col_sum']= psc.sum()\n",
    "    cols = [col for col in psc.columns if col not in ['row_sum']]\n",
    "    rows = [row for row in psc.index if row not in ['col_sum']]\n",
    "    pmi = psc.loc[rows,cols]\n",
    "    sumrow = psc.loc[rows,'row_sum']\n",
    "    pmi = pmi.divide(sumrow.astype(float),axis=0)\n",
    "    sumcol = psc.loc['col_sum',cols]\n",
    "    pmi = pmi.divide(sumcol.astype(float),axis=1)\n",
    "    pmi = np.log2(pmi)\n",
    "    pmi[pmi < 0.0] = 0.0\n",
    "    pmi.index = pmi.index.str.lower()\n",
    "    pmi.columns = pmi.columns.str.lower()\n",
    "    if normalize_ppmi:\n",
    "        pmi = pmi.apply(normalize, axis=1)\n",
    "    return pmi\n",
    "\n",
    "def create_json_graph(cmatrix,rowsum,kmean_label):\n",
    "    cmax = cmatrix[cmatrix<1.0].max().max()\n",
    "    cmin = 0.2\n",
    "    lmin = 0.5\n",
    "    lmax = 15\n",
    "    smax = 20\n",
    "    smin = 3\n",
    "    rmax = np.log10(rowsum[0])\n",
    "    rmin = np.log10(rowsum[cmatrix.shape[0]])\n",
    "    nodes_list = []\n",
    "    for i,ci in enumerate(cmatrix.index):\n",
    "        sprime = (np.log10(rowsum[i])-rmin) / (rmax-rmin) * (smax-smin) + smin\n",
    "        nodes_list.append({'id':ci, 'group': int(kmeans_label[i]), 'size': sprime})\n",
    "\n",
    "    links_list = []\n",
    "    for i,ic in enumerate(cmatrix.index):\n",
    "        for j,jc in enumerate(cmatrix.columns):\n",
    "            if i != j:\n",
    "                if cmatrix.loc[ic,jc] > cmin:\n",
    "                    c = cmatrix.loc[ic,jc]\n",
    "                    # scale correlation measure between lmax and lmin (for link width)\n",
    "                    cprime = (c-cmin) / (cmax-cmin) * (lmax-lmin) + lmin\n",
    "                    links_list.append({'source': ic, 'target': jc, 'value': cprime })\n",
    "\n",
    "    json_prep = {\"nodes\":nodes_list, \"links\":links_list}\n",
    "    return json_prep"
   ]
  },
  {
   "cell_type": "code",
   "execution_count": 3,
   "metadata": {
    "collapsed": false,
    "deletable": true,
    "editable": true
   },
   "outputs": [
    {
     "name": "stdout",
     "output_type": "stream",
     "text": [
      "t1_subreddit,t2_subreddit,NumOverlaps\r\n",
      "terriblefacebookmemes,aww,256\r\n",
      "PoliticalHumor,self,256\r\n",
      "whowouldwin,trashy,256\r\n",
      "Damnthatsinteresting,StarWars,256\r\n",
      "ANormalDayInRussia,The_Donald,256\r\n",
      "de,television,256\r\n",
      "photography,aww,768\r\n",
      "whowouldwin,technology,1280\r\n",
      "holdthemoan,de,1\r\n"
     ]
    }
   ],
   "source": [
    "!head sbreddit_overlap_v2.csv"
   ]
  },
  {
   "cell_type": "code",
   "execution_count": null,
   "metadata": {
    "collapsed": false,
    "deletable": true,
    "editable": true
   },
   "outputs": [],
   "source": [
    "fname='sbreddit_overlap_v2.csv'\n",
    "\n",
    "pivoted_fname = \"subreddit_overlap_pivoted.csv\"\n",
    "\n",
    "#df = pd.read_csv(fname)\n",
    "#pivoted = df.pivot_table(values='NumOverlaps', index='t2_subreddit',columns='t1_subreddit',fill_value=0)\n",
    "#pivoted.to_csv(pivoted_fname)\n",
    "\n",
    "pivoted_fname = \"subreddit_overlap_pivoted.csv\"\n",
    "pivoted = pd.read_csv(pivoted_fname,index_col=0)\n",
    "\n",
    "# get rid of unvisited subreddits\n",
    "noverlap = pivoted.sum(axis=1)\n",
    "trimmed = pivoted[noverlap>1000]\n",
    "print \"original shape / trimmed shape\", pivoted.shape, trimmed.shape"
   ]
  },
  {
   "cell_type": "code",
   "execution_count": null,
   "metadata": {
    "collapsed": false,
    "deletable": true,
    "editable": true
   },
   "outputs": [],
   "source": [
    "# create positive pointwise mutual information matrix\n",
    "ppmi = to_ppmi(trimmed)\n",
    "ppmi.head()"
   ]
  },
  {
   "cell_type": "code",
   "execution_count": null,
   "metadata": {
    "collapsed": false,
    "deletable": true,
    "editable": true
   },
   "outputs": [],
   "source": [
    "# Explore similar subreddits\n",
    "# inspired by: https://fivethirtyeight.com/features/dissecting-trumps-most-rabid-online-following/\n",
    "\n",
    "subs = ['cocktails']\n",
    "ops = []\n",
    "print \"cocktails similarities: \"\n",
    "for s,cs in find_similar(ppmi,subs,ops):\n",
    "    print s, cs"
   ]
  },
  {
   "cell_type": "code",
   "execution_count": null,
   "metadata": {
    "collapsed": false,
    "deletable": true,
    "editable": true
   },
   "outputs": [],
   "source": [
    "subs = ['astronomy']\n",
    "ops = []\n",
    "print \"astronomy similarities: \"\n",
    "for s,cs in find_similar(ppmi,subs,ops):\n",
    "    print s, cs"
   ]
  },
  {
   "cell_type": "code",
   "execution_count": null,
   "metadata": {
    "collapsed": false,
    "deletable": true,
    "editable": true
   },
   "outputs": [],
   "source": [
    "subs = ['babyelephantgifs']\n",
    "ops = []\n",
    "print \"baby elephant gifs similarities: \"\n",
    "for s,cs in find_similar(ppmi,subs,ops):\n",
    "    print s, cs"
   ]
  },
  {
   "cell_type": "code",
   "execution_count": null,
   "metadata": {
    "collapsed": false,
    "deletable": true,
    "editable": true
   },
   "outputs": [],
   "source": [
    "subs = ['30rock']\n",
    "ops = []\n",
    "print \"30 rock similarities: \"\n",
    "for s,cs in find_similar(ppmi,subs,ops):\n",
    "    print s, cs"
   ]
  },
  {
   "cell_type": "code",
   "execution_count": null,
   "metadata": {
    "collapsed": false,
    "deletable": true,
    "editable": true
   },
   "outputs": [],
   "source": [
    "subs = ['austin']\n",
    "ops = []\n",
    "print \"austin similarities: \"\n",
    "for s,cs in find_similar(ppmi,subs,ops):\n",
    "    print s, cs"
   ]
  },
  {
   "cell_type": "code",
   "execution_count": null,
   "metadata": {
    "collapsed": false,
    "deletable": true,
    "editable": true
   },
   "outputs": [],
   "source": [
    "# subreddit 'algebra'\n",
    "\n",
    "subs = ['austin','texas']\n",
    "ops = ['-']\n",
    "print \"austin - texas: \"\n",
    "for s,cs in find_similar(ppmi,subs,ops):\n",
    "    print s, cs"
   ]
  },
  {
   "cell_type": "code",
   "execution_count": null,
   "metadata": {
    "collapsed": false,
    "deletable": true,
    "editable": true
   },
   "outputs": [],
   "source": [
    "subs = ['texas','austin']\n",
    "ops = ['-']\n",
    "print \"texas - austin: \"\n",
    "for s,cs in find_similar(ppmi,subs,ops):\n",
    "    print s, cs\n",
    "    "
   ]
  },
  {
   "cell_type": "code",
   "execution_count": null,
   "metadata": {
    "collapsed": false,
    "deletable": true,
    "editable": true
   },
   "outputs": [],
   "source": [
    "subs = ['austin','texas','oregon']\n",
    "ops = ['-','+']\n",
    "print \"austin - texas + oregon: \"\n",
    "for s,cs in find_similar(ppmi,subs,ops):\n",
    "    print s, cs\n",
    "    "
   ]
  },
  {
   "cell_type": "code",
   "execution_count": null,
   "metadata": {
    "collapsed": false,
    "deletable": true,
    "editable": true
   },
   "outputs": [],
   "source": [
    "subs = ['the_donald','politics']\n",
    "ops = ['-']\n",
    "print \"trump - politics: \"\n",
    "for s,cs in find_similar(ppmi,subs,ops):\n",
    "    print s, cs"
   ]
  },
  {
   "cell_type": "code",
   "execution_count": null,
   "metadata": {
    "collapsed": false,
    "deletable": true,
    "editable": true
   },
   "outputs": [],
   "source": [
    "subs = ['hillaryclinton','politics']\n",
    "ops = ['-']\n",
    "print \"clinton - politics = \"\n",
    "for s,cs in find_similar(ppmi,subs,ops):\n",
    "    print s, cs\n",
    "    \n",
    "subs = ['sandersforpresident','politics']\n",
    "ops = ['-']\n",
    "print ''\n",
    "print \"sanders - politics = \"\n",
    "for s,cs in find_similar(ppmi,subs,ops):\n",
    "    print s, cs"
   ]
  },
  {
   "cell_type": "code",
   "execution_count": null,
   "metadata": {
    "collapsed": false,
    "deletable": true,
    "editable": true
   },
   "outputs": [],
   "source": [
    "subs = ['personalfinance','frugal']\n",
    "ops = ['-']\n",
    "print \"personal finance - frugal = \"\n",
    "for s,cs in find_similar(ppmi,subs,ops):\n",
    "    print s, cs"
   ]
  },
  {
   "cell_type": "code",
   "execution_count": null,
   "metadata": {
    "collapsed": false,
    "deletable": true,
    "editable": true
   },
   "outputs": [],
   "source": [
    "# Visualize relationship among top subreddits\n",
    "\n",
    "# take top ntrim subreddits based on overlaps\n",
    "ntop = 100\n",
    "trimmed['rowsum'] = trimmed.sum(axis=1)\n",
    "trimmed.sort_values('rowsum',ascending=False,inplace=True)\n",
    "rowsum = trimmed['rowsum']\n",
    "topsubs = trimmed[:ntop]\n",
    "del topsubs['rowsum']\n",
    "#topsubs.head()"
   ]
  },
  {
   "cell_type": "code",
   "execution_count": null,
   "metadata": {
    "collapsed": false,
    "deletable": true,
    "editable": true
   },
   "outputs": [],
   "source": [
    "# convert to ppmi\n",
    "ppmi = to_ppmi(topsubs)"
   ]
  },
  {
   "cell_type": "code",
   "execution_count": null,
   "metadata": {
    "collapsed": false,
    "deletable": true,
    "editable": true
   },
   "outputs": [],
   "source": [
    "# determine (rough) kmeans clustering\n",
    "kmeans_label = KMeans(n_clusters=5).fit_predict(ppmi.values)\n",
    "kmeans_label"
   ]
  },
  {
   "cell_type": "code",
   "execution_count": null,
   "metadata": {
    "collapsed": false,
    "deletable": true,
    "editable": true
   },
   "outputs": [],
   "source": [
    "# find correlation of subreddits with every other subreddit based on ppmi vector\n",
    "cmatrix = ppmi.T.corr()\n",
    "cmatrix.head()"
   ]
  },
  {
   "cell_type": "code",
   "execution_count": null,
   "metadata": {
    "collapsed": false,
    "deletable": true,
    "editable": true
   },
   "outputs": [],
   "source": [
    "# create graph structure in json format and save\n",
    "json_graph = create_json_graph(cmatrix,rowsum,kmeans_label)\n",
    "with open('cmatrix'+str(ntop)+'.json', 'w') as fp:\n",
    "    json.dump(json_graph, fp)\n",
    "print json_graph"
   ]
  },
  {
   "cell_type": "code",
   "execution_count": null,
   "metadata": {
    "collapsed": false,
    "deletable": true,
    "editable": true
   },
   "outputs": [],
   "source": [
    "# use D3 to create force-directed graph:\n",
    "IFrame('fdg.html', width=1100, height=700)"
   ]
  },
  {
   "cell_type": "code",
   "execution_count": null,
   "metadata": {
    "collapsed": true,
    "deletable": true,
    "editable": true
   },
   "outputs": [],
   "source": []
  }
 ],
 "metadata": {
  "kernelspec": {
   "display_name": "Python 2",
   "language": "python",
   "name": "python2"
  },
  "language_info": {
   "codemirror_mode": {
    "name": "ipython",
    "version": 2
   },
   "file_extension": ".py",
   "mimetype": "text/x-python",
   "name": "python",
   "nbconvert_exporter": "python",
   "pygments_lexer": "ipython2",
   "version": "2.7.12"
  }
 },
 "nbformat": 4,
 "nbformat_minor": 0
}
